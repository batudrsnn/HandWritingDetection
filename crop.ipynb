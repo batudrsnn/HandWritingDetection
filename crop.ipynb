{
 "cells": [
  {
   "cell_type": "code",
   "execution_count": 1,
   "metadata": {},
   "outputs": [],
   "source": [
    "import cv2\n",
    "from pytesseract import pytesseract, Output"
   ]
  },
  {
   "cell_type": "code",
   "execution_count": 2,
   "metadata": {},
   "outputs": [],
   "source": [
    "# Path to the image file\n",
    "img_path = '/Users/jin/Desktop/test_image.png' #### change this\n",
    "# Load the image\n",
    "image = cv2.imread(img_path)\n",
    "\n",
    "# Convert the image to grayscale\n",
    "gray_image = cv2.cvtColor(image, cv2.COLOR_BGR2GRAY)\n",
    "\n",
    "# Use pytesseract to detect words and their bounding boxes\n",
    "custom_config = r'--oem 3 --psm 6'  # You can adjust the psm mode as required\n",
    "details = pytesseract.image_to_data(gray_image, output_type=Output.DICT, config=custom_config)\n"
   ]
  },
  {
   "cell_type": "code",
   "execution_count": 4,
   "metadata": {},
   "outputs": [],
   "source": [
    "# Iterate over each word detected and crop\n",
    "for i, word in enumerate(details['text']):\n",
    "    if int(details['conf'][i]) > 0:  # Filter out weak confidence words\n",
    "        x, y, w, h = details['left'][i], details['top'][i], details['width'][i], details['height'][i]\n",
    "        cropped_word = image[y:y + h, x:x + w]\n",
    "        # Save or display the cropped word\n",
    "        cv2.imwrite(f'cropped_word_{i}.png', cropped_word)\n",
    "        # If you want to display the cropped word uncomment the lines below\n",
    "        # cv2.imshow(f'Cropped Word {i}', cropped_word)\n",
    "        # cv2.waitKey(0)\n",
    "\n",
    "# Close any open windows\n",
    "# cv2.destroyAllWindows()\n",
    "# cv2.waitKey(1)"
   ]
  },
  {
   "cell_type": "code",
   "execution_count": 3,
   "metadata": {},
   "outputs": [
    {
     "data": {
      "text/plain": [
       "-1"
      ]
     },
     "execution_count": 3,
     "metadata": {},
     "output_type": "execute_result"
    }
   ],
   "source": [
    "cv2.startWindowThread()\n",
    "cv2.imshow('Cropped Word', image)\n",
    "cv2.waitKey(0)\n",
    "cv2.destroyAllWindows()\n",
    "cv2.waitKey(1)"
   ]
  }
 ],
 "metadata": {
  "kernelspec": {
   "display_name": "Python 3.9 (tensorflow)",
   "language": "python",
   "name": "tensorflow"
  },
  "language_info": {
   "codemirror_mode": {
    "name": "ipython",
    "version": 3
   },
   "file_extension": ".py",
   "mimetype": "text/x-python",
   "name": "python",
   "nbconvert_exporter": "python",
   "pygments_lexer": "ipython3",
   "version": "3.9.13"
  }
 },
 "nbformat": 4,
 "nbformat_minor": 2
}
