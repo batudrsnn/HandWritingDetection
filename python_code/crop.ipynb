{
 "cells": [
  {
   "cell_type": "code",
   "execution_count": 1,
   "metadata": {},
   "outputs": [],
   "source": [
    "import cv2\n",
    "from pytesseract import pytesseract, Output"
   ]
  },
  {
   "cell_type": "code",
   "execution_count": 17,
   "metadata": {},
   "outputs": [],
   "source": [
    "# Path to the image file\n",
    "img_path = '/Users/jin/Documents/S3/Machine_Learning_for_Internet_of_Things/final_project/test/0004.jpg' #### change this\n",
    "# Load the image\n",
    "image = cv2.imread(img_path)\n",
    "\n",
    "# Convert the image to grayscale\n",
    "gray_image = cv2.cvtColor(image, cv2.COLOR_BGR2GRAY)\n",
    "\n",
    "# Use pytesseract to detect words and their bounding boxes\n",
    "custom_config = r'--oem 3 --psm 6'  # You can adjust the psm mode as required\n",
    "details = pytesseract.image_to_data(gray_image, output_type=Output.DICT, config=custom_config)\n"
   ]
  },
  {
   "cell_type": "code",
   "execution_count": 18,
   "metadata": {},
   "outputs": [
    {
     "name": "stderr",
     "output_type": "stream",
     "text": [
      "Bad pipe message: %s [b'\\x1aI\\xact\\xf3\\xb4\\xc7\\xaf\\x93cgS\\xc2i\\xfb@\\xde\\x12 *\\x87yHW^\\x9a|\\x1c+\\x11F\\xe6\\x16pR\\xfe\\x92\\x19\\xcb\\xd3k\\x8a\\xda\\x85T\\xf3', b'0\\n\\x96\\x00*\\x9a\\x9a\\x13\\x01\\x13\\x02\\x13\\x03\\xc0,\\xc0+\\xcc\\xa9\\xc00\\xc0/\\xcc\\xa8\\xc0\\n\\xc0\\t\\xc0\\x14\\xc0\\x13\\x00\\x9d\\x00\\x9c\\x005\\x00/\\xc0\\x08\\xc0\\x12\\x00\\n\\x01\\x00\\x01\\x89\\x1a\\x1a\\x00\\x00\\x00\\x00\\x00\\x1d\\x00\\x1b\\x00\\x00\\x18local.passport.douyu.com\\x00\\x17\\x00\\x00\\xff\\x01\\x00\\x01\\x00\\x00\\n\\x00\\x0c\\x00\\n\\xaa\\xaa\\x00\\x1d\\x00\\x17\\x00\\x18\\x00\\x19\\x00\\x0b\\x00\\x02\\x01\\x00\\x00\\x10\\x00\\x0e\\x00\\x0c\\x02h2\\x08http/1.1\\x00\\x05\\x00\\x05\\x01\\x00\\x00\\x00\\x00\\x00\\r\\x00\\x18\\x00\\x16\\x04\\x03\\x08\\x04\\x04\\x01\\x05\\x03\\x02\\x03\\x08\\x05\\x08\\x05\\x05\\x01\\x08\\x06\\x06\\x01\\x02\\x01\\x00\\x12\\x00\\x00\\x003\\x00+\\x00)\\xaa\\xaa\\x00\\x01\\x00\\x00\\x1d']\n",
      "Bad pipe message: %s [b'\\xf8\\x17\\x0f\\x99g\\xfdDW\\x80P\\x18\\xf2\\xae\\x9a2\\x13\\xac9 \\xe5.{\\x8d\\xd7M\\xbcr\\x19A\\xed\\xe1\\xaf$G\\xcf|\\xc1\\xb7\\xc9\\x04\\xa1\\xe1\\xef\\xbc\\x95\\xce\\xa9\\xa1\\xad\\xe0\\x9b\\x00,\\xaa\\xaa\\x13\\x01\\x13\\x02\\x13\\x03\\xc0,\\xc0+\\xcc\\xa9\\xc00\\xc0/\\xcc\\xa8\\xc0\\n\\xc0\\t\\xc0\\x14\\xc0\\x13\\x00\\x9d\\x00\\x9c\\x005\\x00/\\xc0\\x08\\xc0\\x12\\x00\\nV\\x00\\x01\\x00\\x01\\x87**\\x00\\x00\\x00\\x00\\x00\\x1d\\x00\\x1b\\x00\\x00\\x18local.passport.douyu.com\\x00\\x17\\x00\\x00\\xff\\x01\\x00\\x01\\x00\\x00\\n\\x00\\x0c\\x00\\n\\xca\\xca\\x00\\x1d\\x00\\x17\\x00\\x18\\x00\\x19\\x00\\x0b\\x00\\x02\\x01\\x00\\x00\\x10\\x00\\x0e']\n",
      "Bad pipe message: %s [b'i\\xd0h\\x7f)\\x8cFN\\x1d\\x0eW*\\xf5|\\xa2-\\xcc4 c\\x8a[\\x84:\\x14<@\\xf0\\xd6\\xf1\\xc8g\\x99\\r\\xfb\\x1e%\\x1c\\x9e\\xf6\\x87\\xa7\\xbc\\xc8\\x00A\\xf7\\xb3\\x12\\xce\\x00\\x00*\\xea\\xea\\x13\\x01\\x13\\x02\\x13\\x03\\xc0,\\xc0+\\xcc\\xa9\\xc00\\xc0/\\xcc\\xa8\\xc0\\n\\xc0\\t\\xc0\\x14\\xc0\\x13\\x00\\x9d\\x00\\x9c\\x005\\x00/\\xc0\\x08\\xc0\\x12\\x00\\n\\x01\\x00\\x01\\x89ZZ\\x00\\x00\\x00\\x00\\x00\\x1d\\x00\\x1b\\x00\\x00\\x18local.passport.douyu.com\\x00\\x17\\x00\\x00\\xff\\x01\\x00\\x01\\x00\\x00\\n\\x00\\x0c\\x00\\n\\xea\\xea\\x00\\x1d\\x00\\x17\\x00\\x18\\x00\\x19\\x00\\x0b\\x00\\x02\\x01\\x00\\x00\\x10\\x00', b'\\x0c\\x02h2\\x08http/1.1']\n",
      "Bad pipe message: %s [b'\\xfbThp\"\\x07\\xc9\\xef\\xc09\\xaf(tUS\\xe5\\xf3| \\xc1\\xe0\\x11P\\xe5\\xb75\\xf3\"@\\xd8H\\x8d\\xe7#\\'\\xa8\\x15\\xfd|d\\xec#M\\xca\\x9d/\\x02g|\\xdf\\xc4\\x00,ZZ\\x13\\x01\\x13\\x02\\x13\\x03\\xc0,\\xc0+\\xcc\\xa9\\xc00\\xc0/\\xcc\\xa8\\xc0\\n\\xc0\\t\\xc0\\x14\\xc0\\x13\\x00\\x9d\\x00\\x9c\\x005\\x00/\\xc0\\x08\\xc0\\x12\\x00\\nV\\x00\\x01\\x00', b'', b'\\x00\\x00\\x00\\x00\\x00\\x1d\\x00\\x1b\\x00\\x00\\x18local.passport.douyu.com\\x00\\x17\\x00\\x00\\xff\\x01\\x00\\x01\\x00\\x00\\n\\x00\\x0c\\x00\\nJJ\\x00\\x1d\\x00\\x17\\x00\\x18\\x00\\x19\\x00\\x0b\\x00\\x02\\x01\\x00\\x00\\x10\\x00\\x0e\\x00\\x0c\\x02h2\\x08http/1.1\\x00\\x05\\x00\\x05\\x01\\x00\\x00\\x00\\x00\\x00\\r\\x00\\x18\\x00\\x16\\x04\\x03\\x08\\x04\\x04\\x01\\x05\\x03\\x02\\x03\\x08\\x05\\x08\\x05\\x05\\x01\\x08\\x06\\x06\\x01\\x02\\x01\\x00\\x12\\x00\\x00\\x003\\x00+\\x00)JJ\\x00\\x01\\x00\\x00\\x1d\\x00 \\xf6\\xc2\\\\\\xdd\\xb6\\rh\\x8dt\\x07;\\x9a\\x805\\xd7\"NA\\xcf\\xd1\\x05\\x96\\xac\\xd5`4\\xa8{uHox\\x00-\\x00\\x02\\x01\\x01\\x00+\\x00\\x0b\\nzz\\x03\\x04\\x03\\x03\\x03\\x02\\x03\\x01\\x00\\x1b\\x00\\x03\\x02\\x00\\x01JJ\\x00\\x01\\x00\\x00\\x15\\x00\\xb4\\x00\\x00\\x00\\x00\\x00\\x00\\x00\\x00\\x00\\x00\\x00\\x00\\x00\\x00\\x00\\x00\\x00\\x00\\x00\\x00\\x00\\x00\\x00\\x00\\x00\\x00\\x00\\x00\\x00\\x00\\x00\\x00\\x00\\x00\\x00\\x00\\x00\\x00\\x00\\x00']\n"
     ]
    }
   ],
   "source": [
    "# Iterate over each word detected and crop\n",
    "for i, word in enumerate(details['text']):\n",
    "    if int(details['conf'][i]) > 0:  # Filter out weak confidence words\n",
    "        x, y, w, h = details['left'][i], details['top'][i], details['width'][i], details['height'][i]\n",
    "        cropped_word = image[y:y + h, x:x + w]\n",
    "        # Save or display the cropped word\n",
    "        cv2.imwrite(f'/Users/jin/Documents/S3/Machine_Learning_for_Internet_of_Things/final_project/test/cropped_words/cropped_word_{i+506}.png', cropped_word)\n",
    "        # If you want to display the cropped word uncomment the lines below\n",
    "        # cv2.imshow(f'Cropped Word {i}', cropped_word)\n",
    "        # cv2.waitKey(0)\n",
    "\n",
    "# Close any open windows\n",
    "# cv2.destroyAllWindows()\n",
    "# cv2.waitKey(1)"
   ]
  },
  {
   "cell_type": "code",
   "execution_count": 3,
   "metadata": {},
   "outputs": [
    {
     "data": {
      "text/plain": [
       "-1"
      ]
     },
     "execution_count": 3,
     "metadata": {},
     "output_type": "execute_result"
    }
   ],
   "source": [
    "cv2.startWindowThread()\n",
    "cv2.imshow('Cropped Word', image)\n",
    "cv2.waitKey(0)\n",
    "cv2.destroyAllWindows()\n",
    "cv2.waitKey(1)"
   ]
  }
 ],
 "metadata": {
  "kernelspec": {
   "display_name": "Python 3.9 (tensorflow)",
   "language": "python",
   "name": "tensorflow"
  },
  "language_info": {
   "codemirror_mode": {
    "name": "ipython",
    "version": 3
   },
   "file_extension": ".py",
   "mimetype": "text/x-python",
   "name": "python",
   "nbconvert_exporter": "python",
   "pygments_lexer": "ipython3",
   "version": "3.9.13"
  }
 },
 "nbformat": 4,
 "nbformat_minor": 2
}
